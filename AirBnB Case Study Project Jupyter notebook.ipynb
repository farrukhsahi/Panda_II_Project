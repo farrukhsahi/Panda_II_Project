{
 "cells": [
  {
   "cell_type": "markdown",
   "metadata": {},
   "source": [
    "# AirBnB NY Locations Data Case Study\n",
    "\n",
    "In this final project, you task will be to take the data provided and find evidance to answer the following questions.\n",
    "\n",
    "1. Which hosts are the busiest and why?\n",
    "2. How many neighborhood groups are available and which shows up the most?\n",
    "3. Are private rooms the most popular in manhattan?\n",
    "4. Which hosts are the busiest and based on their reviews?\n",
    "5. Which neighorhood group has the highest average price?\n",
    "6. Which neighborhood group has the highest total price?\n",
    "7. Which top 5 hosts have the highest total price?\n",
    "8. Who currently has no (zero) availability with a review count of 100 or more?\n",
    "9. What host has the highest total of prices and where are they located?\n",
    "10. When did Danielle from Queens last receive a review?\n",
    "\n",
    "You will be given **4 hours** to complete this assignment. \n",
    "**Be Advised** I will go dark for this intire assignment time period. That said, any questions that you would like to ask about the data, or the project **MUST** be asked before the time starts. Once the time has started, I can no longer give information.\n",
    "\n",
    "This is to similate what you will face when you are out in the wild. \n",
    "\n",
    "Happy Coding!"
   ]
  },
  {
   "cell_type": "code",
   "execution_count": 1,
   "metadata": {},
   "outputs": [],
   "source": [
    "import numpy as np\n",
    "import pandas as pd\n",
    "import matplotlib.pyplot as plt"
   ]
  },
  {
   "cell_type": "code",
   "execution_count": 13,
   "metadata": {},
   "outputs": [
    {
     "data": {
      "text/html": [
       "<div>\n",
       "<style scoped>\n",
       "    .dataframe tbody tr th:only-of-type {\n",
       "        vertical-align: middle;\n",
       "    }\n",
       "\n",
       "    .dataframe tbody tr th {\n",
       "        vertical-align: top;\n",
       "    }\n",
       "\n",
       "    .dataframe thead th {\n",
       "        text-align: right;\n",
       "    }\n",
       "</style>\n",
       "<table border=\"1\" class=\"dataframe\">\n",
       "  <thead>\n",
       "    <tr style=\"text-align: right;\">\n",
       "      <th></th>\n",
       "      <th>id</th>\n",
       "      <th>name</th>\n",
       "      <th>host_id</th>\n",
       "      <th>host_name</th>\n",
       "      <th>neighbourhood_group</th>\n",
       "      <th>neighbourhood</th>\n",
       "      <th>latitude</th>\n",
       "      <th>longitude</th>\n",
       "      <th>room_type</th>\n",
       "      <th>price</th>\n",
       "      <th>minimum_nights</th>\n",
       "      <th>number_of_reviews</th>\n",
       "      <th>last_review</th>\n",
       "      <th>reviews_per_month</th>\n",
       "      <th>calculated_host_listings_count</th>\n",
       "      <th>availability_365</th>\n",
       "    </tr>\n",
       "  </thead>\n",
       "  <tbody>\n",
       "    <tr>\n",
       "      <th>0</th>\n",
       "      <td>2539</td>\n",
       "      <td>Clean &amp; quiet apt home by the park</td>\n",
       "      <td>2787</td>\n",
       "      <td>John</td>\n",
       "      <td>Brooklyn</td>\n",
       "      <td>Kensington</td>\n",
       "      <td>40.64749</td>\n",
       "      <td>-73.97237</td>\n",
       "      <td>Private room</td>\n",
       "      <td>149</td>\n",
       "      <td>1</td>\n",
       "      <td>9</td>\n",
       "      <td>2018-10-19</td>\n",
       "      <td>0.21</td>\n",
       "      <td>6</td>\n",
       "      <td>365</td>\n",
       "    </tr>\n",
       "    <tr>\n",
       "      <th>1</th>\n",
       "      <td>2595</td>\n",
       "      <td>Skylit Midtown Castle</td>\n",
       "      <td>2845</td>\n",
       "      <td>Jennifer</td>\n",
       "      <td>Manhattan</td>\n",
       "      <td>Midtown</td>\n",
       "      <td>40.75362</td>\n",
       "      <td>-73.98377</td>\n",
       "      <td>Entire home/apt</td>\n",
       "      <td>225</td>\n",
       "      <td>1</td>\n",
       "      <td>45</td>\n",
       "      <td>2019-05-21</td>\n",
       "      <td>0.38</td>\n",
       "      <td>2</td>\n",
       "      <td>355</td>\n",
       "    </tr>\n",
       "    <tr>\n",
       "      <th>2</th>\n",
       "      <td>3647</td>\n",
       "      <td>THE VILLAGE OF HARLEM....NEW YORK !</td>\n",
       "      <td>4632</td>\n",
       "      <td>Elisabeth</td>\n",
       "      <td>Manhattan</td>\n",
       "      <td>Harlem</td>\n",
       "      <td>40.80902</td>\n",
       "      <td>-73.94190</td>\n",
       "      <td>Private room</td>\n",
       "      <td>150</td>\n",
       "      <td>3</td>\n",
       "      <td>0</td>\n",
       "      <td>NaN</td>\n",
       "      <td>NaN</td>\n",
       "      <td>1</td>\n",
       "      <td>365</td>\n",
       "    </tr>\n",
       "    <tr>\n",
       "      <th>3</th>\n",
       "      <td>3831</td>\n",
       "      <td>Cozy Entire Floor of Brownstone</td>\n",
       "      <td>4869</td>\n",
       "      <td>LisaRoxanne</td>\n",
       "      <td>Brooklyn</td>\n",
       "      <td>Clinton Hill</td>\n",
       "      <td>40.68514</td>\n",
       "      <td>-73.95976</td>\n",
       "      <td>Entire home/apt</td>\n",
       "      <td>89</td>\n",
       "      <td>1</td>\n",
       "      <td>270</td>\n",
       "      <td>2019-07-05</td>\n",
       "      <td>4.64</td>\n",
       "      <td>1</td>\n",
       "      <td>194</td>\n",
       "    </tr>\n",
       "    <tr>\n",
       "      <th>4</th>\n",
       "      <td>5022</td>\n",
       "      <td>Entire Apt: Spacious Studio/Loft by central park</td>\n",
       "      <td>7192</td>\n",
       "      <td>Laura</td>\n",
       "      <td>Manhattan</td>\n",
       "      <td>East Harlem</td>\n",
       "      <td>40.79851</td>\n",
       "      <td>-73.94399</td>\n",
       "      <td>Entire home/apt</td>\n",
       "      <td>80</td>\n",
       "      <td>10</td>\n",
       "      <td>9</td>\n",
       "      <td>2018-11-19</td>\n",
       "      <td>0.10</td>\n",
       "      <td>1</td>\n",
       "      <td>0</td>\n",
       "    </tr>\n",
       "  </tbody>\n",
       "</table>\n",
       "</div>"
      ],
      "text/plain": [
       "     id                                              name  host_id  \\\n",
       "0  2539                Clean & quiet apt home by the park     2787   \n",
       "1  2595                             Skylit Midtown Castle     2845   \n",
       "2  3647               THE VILLAGE OF HARLEM....NEW YORK !     4632   \n",
       "3  3831                   Cozy Entire Floor of Brownstone     4869   \n",
       "4  5022  Entire Apt: Spacious Studio/Loft by central park     7192   \n",
       "\n",
       "     host_name neighbourhood_group neighbourhood  latitude  longitude  \\\n",
       "0         John            Brooklyn    Kensington  40.64749  -73.97237   \n",
       "1     Jennifer           Manhattan       Midtown  40.75362  -73.98377   \n",
       "2    Elisabeth           Manhattan        Harlem  40.80902  -73.94190   \n",
       "3  LisaRoxanne            Brooklyn  Clinton Hill  40.68514  -73.95976   \n",
       "4        Laura           Manhattan   East Harlem  40.79851  -73.94399   \n",
       "\n",
       "         room_type  price  minimum_nights  number_of_reviews last_review  \\\n",
       "0     Private room    149               1                  9  2018-10-19   \n",
       "1  Entire home/apt    225               1                 45  2019-05-21   \n",
       "2     Private room    150               3                  0         NaN   \n",
       "3  Entire home/apt     89               1                270  2019-07-05   \n",
       "4  Entire home/apt     80              10                  9  2018-11-19   \n",
       "\n",
       "   reviews_per_month  calculated_host_listings_count  availability_365  \n",
       "0               0.21                               6               365  \n",
       "1               0.38                               2               355  \n",
       "2                NaN                               1               365  \n",
       "3               4.64                               1               194  \n",
       "4               0.10                               1                 0  "
      ]
     },
     "execution_count": 13,
     "metadata": {},
     "output_type": "execute_result"
    }
   ],
   "source": [
    "air_bnb = pd.read_csv('../Panda/AB_NYC_2019.csv')\n",
    "air_bnb.head()"
   ]
  },
  {
   "cell_type": "code",
   "execution_count": 18,
   "metadata": {},
   "outputs": [
    {
     "name": "stdout",
     "output_type": "stream",
     "text": [
      "Number of neighbourhood groups: 5\n",
      "The neighbourhood group that shows up the most is: Manhattan\n"
     ]
    }
   ],
   "source": [
    "# How many neighborhood groups are available and which shows up the most?\n",
    "\n",
    "# Counting the occurances of each neighbourhood group\n",
    "neighbourhood_group_counts = air_bnb['neighbourhood_group'].value_counts()\n",
    "\n",
    "# Display the number of neighbourhood groups and the one that shows up most\n",
    "num_neighbourhood_groups = len(neighbourhood_group_counts)\n",
    "most_common_neighbourhood_group = neighbourhood_group_counts.idxmax()\n",
    "\n",
    "print(f\"Number of neighbourhood groups: {num_neighbourhood_groups}\")\n",
    "print(f\"The neighbourhood group that shows up the most is: {most_common_neighbourhood_group}\")"
   ]
  },
  {
   "cell_type": "code",
   "execution_count": 17,
   "metadata": {},
   "outputs": [
    {
     "name": "stdout",
     "output_type": "stream",
     "text": [
      "Distribution of room types in Manhattan:\n",
      "Entire home/apt    13199\n",
      "Private room        7982\n",
      "Shared room          480\n",
      "Name: room_type, dtype: int64\n",
      "\n",
      "Is private room the most popular in Manhattan? No\n"
     ]
    }
   ],
   "source": [
    "# Are private rooms the most popular in manhattan?\n",
    "\n",
    "# Filtering the DataFrame for Manhattan\n",
    "manhattan_data = air_bnb[air_bnb['neighbourhood_group'] == 'Manhattan']\n",
    "\n",
    "# Counting the occurances of each room type in Manhattan\n",
    "room_type_counts = manhattan_data['room_type'].value_counts()\n",
    "\n",
    "# Displaying the distibution of room types in Manhattan\n",
    "print(\"Distribution of room types in Manhattan:\")\n",
    "print(room_type_counts)\n",
    "\n",
    "# Checking if private room types are the most popular\n",
    "most_popular_room_type = room_type_counts.idxmax()\n",
    "\n",
    "print(f\"\\nIs private room the most popular in Manhattan? {'Yes' if most_popular_room_type == 'Private room' else 'No'}\")"
   ]
  },
  {
   "cell_type": "code",
   "execution_count": 28,
   "metadata": {},
   "outputs": [
    {
     "name": "stdout",
     "output_type": "stream",
     "text": [
      "Top 5 busiest hosts based on number of reviews:\n",
      "host_id\n",
      "37312959    2273\n",
      "344035      2205\n",
      "26432133    2017\n",
      "35524316    1971\n",
      "40176101    1818\n",
      "Name: number_of_reviews, dtype: int64\n"
     ]
    }
   ],
   "source": [
    "# Which hosts are the busiest based on their reviews?\n",
    "\n",
    "# Identifying the hosts with the highest number of reviews\n",
    "busiest_hosts = air_bnb.groupby('host_id')['number_of_reviews'].sum().sort_values(ascending=False)\n",
    "\n",
    "print(\"Top 5 busiest hosts based on number of reviews:\")\n",
    "print(busiest_hosts.head())"
   ]
  },
  {
   "cell_type": "code",
   "execution_count": 32,
   "metadata": {},
   "outputs": [
    {
     "name": "stdout",
     "output_type": "stream",
     "text": [
      "The neighbourhood group with the highest average price is Manhattan with an average price of $196.88\n"
     ]
    }
   ],
   "source": [
    "# Which neighorhood group has the highest average price?\n",
    "\n",
    "# Calculating the average price of each neighbourhood group\n",
    "average_price_by_neighbourhood = air_bnb.groupby('neighbourhood_group')['price'].mean()\n",
    "\n",
    "# Identifying the neighbourhood group with the highest average price\n",
    "highest_avg_price_neighbourhood = average_price_by_neighbourhood.idxmax()\n",
    "highest_avg_price_value = average_price_by_neighbourhood.max()\n",
    "\n",
    "#Displaying results\n",
    "print(f\"The neighbourhood group with the highest average price is {highest_avg_price_neighbourhood} with an average price of ${highest_avg_price_value:.2f}\")"
   ]
  },
  {
   "cell_type": "code",
   "execution_count": 33,
   "metadata": {},
   "outputs": [
    {
     "name": "stdout",
     "output_type": "stream",
     "text": [
      "The neighbourhood group with the highest total price is Manhattan with a total price of $4264527.00\n"
     ]
    }
   ],
   "source": [
    "# Which neighborhood group has the highest total price?\n",
    "\n",
    "# Calculating the total price for each neighbourhood group\n",
    "total_price_by_neighbourhood = air_bnb.groupby('neighbourhood_group')['price'].sum()\n",
    "\n",
    "# Identifying the neighbourhood group with the highest total price\n",
    "highest_total_price_neighbourhood = total_price_by_neighbourhood.idxmax()\n",
    "highest_total_price_value = total_price_by_neighbourhood.max()\n",
    "\n",
    "# Displaying the results\n",
    "print(f\"The neighbourhood group with the highest total price is {highest_total_price_neighbourhood} with a total price of ${highest_total_price_value:.2f}\")"
   ]
  },
  {
   "cell_type": "code",
   "execution_count": 36,
   "metadata": {},
   "outputs": [
    {
     "name": "stdout",
     "output_type": "stream",
     "text": [
      "Top 5 hosts with the highest total price:\n",
      "host_id\n",
      "219517861    82795\n",
      "107434423    70331\n",
      "156158778    37097\n",
      "205031545    35294\n",
      "30283594     33581\n",
      "Name: price, dtype: int64\n"
     ]
    }
   ],
   "source": [
    "# Which top 5 hosts have the highest total price?\n",
    "\n",
    "# Calculating the total price for each host\n",
    "total_price_by_host = air_bnb.groupby('host_id')['price'].sum()\n",
    "\n",
    "# Identifying the top 5 hosts with the highest total price\n",
    "top5_hosts_highest_total_price = total_price_by_host.nlargest(5)\n",
    "\n",
    "# Displaying the results\n",
    "print(\"Top 5 hosts with the highest total price:\")\n",
    "print(top5_hosts_highest_total_price)"
   ]
  },
  {
   "cell_type": "code",
   "execution_count": 39,
   "metadata": {},
   "outputs": [
    {
     "name": "stdout",
     "output_type": "stream",
     "text": [
      "Hosts with zero availability and review count of 100 or more:\n",
      "[     7490     79402    129352    193722     67778    239208    303939\n",
      "    522065    683975    242506    792159   1311398   1358312   1360043\n",
      "     36897   1492339   1503831   1649300   1935605   1146958   2265770\n",
      "   2275829   2361715   1787284   1215949   2494666   3558158   3778274\n",
      "   3880974   3955766   4129805   1099716   4434798   5634395    663764\n",
      "    585273   6482637   3571821   6774871   7581642   5464042   4983320\n",
      "   8732694   1562642   8910286   9234456   9268156   3187531   1726966\n",
      "  11947308   3793026  16266298  16106756  13337141  17820079   3912009\n",
      "  17224426  18219988  18834080   9492212    610819  22171095  21641206\n",
      "   6465286  21688465  17921968   3417940  22210080  25404246  10795846\n",
      "   7463662  23719409  28723165  30314132  24561040  31040344  31150792\n",
      "   1197823  25915648  33750239  23082955   5577926  36644635  39603420\n",
      "  22959695  40371157  43509184  10024006  31104953  44924546  23073564\n",
      "  37818581  48726094  48970186  22423049  49511227   5291029  50144728\n",
      "  24175837  36638599  51954926  21430239  27431753   8049682    814747\n",
      "    790177   3417090  61972032    116382  14898658  67261284  42399786\n",
      "   6458590  32357613  84779589  87152012  84141923   9030221  95419310\n",
      "  92195100  26073602  99392252  96148809 102080453 103488282   3479852\n",
      "  35998113   2300134 107296819  94100043 121391142  31658624   3203397\n",
      "  10402380 138721769  28270349  94206273 142878742 133810925 143944704\n",
      "  50760404   7097558 159156636 127740507 176185168  21074914  40119874\n",
      " 209549523]\n"
     ]
    }
   ],
   "source": [
    "# Who currently has no (zero) availability with a review count of 100 or more?\n",
    "\n",
    "# Filtering the DataFrame based on availability and review count criteria\n",
    "host_with_zero_availability = air_bnb.loc[(air_bnb['availability_365'] == 0) & (air_bnb['number_of_reviews'] >= 100), 'host_id'].unique()\n",
    "\n",
    "# Displaying the results\n",
    "print(\"Hosts with zero availability and review count of 100 or more:\")\n",
    "print(host_with_zero_availability)"
   ]
  },
  {
   "cell_type": "code",
   "execution_count": 41,
   "metadata": {},
   "outputs": [
    {
     "name": "stdout",
     "output_type": "stream",
     "text": [
      "The host with the highest total price is host_id 219517861 with a total price of $82795.00\n",
      "Location Information:\n",
      "          host_name neighbourhood_group       neighbourhood\n",
      "38293  Sonder (NYC)           Manhattan  Financial District\n",
      "38294  Sonder (NYC)           Manhattan  Financial District\n",
      "38588  Sonder (NYC)           Manhattan  Financial District\n",
      "39769  Sonder (NYC)           Manhattan         Murray Hill\n",
      "39770  Sonder (NYC)           Manhattan         Murray Hill\n",
      "...             ...                 ...                 ...\n",
      "47691  Sonder (NYC)           Manhattan  Financial District\n",
      "47692  Sonder (NYC)           Manhattan  Financial District\n",
      "47693  Sonder (NYC)           Manhattan  Financial District\n",
      "47814  Sonder (NYC)           Manhattan  Financial District\n",
      "47821  Sonder (NYC)           Manhattan  Financial District\n",
      "\n",
      "[327 rows x 3 columns]\n"
     ]
    }
   ],
   "source": [
    "# What host has the highest total of prices and where are they located?\n",
    "\n",
    "# Calculating the total price for each host\n",
    "total_price_by_host = air_bnb.groupby('host_id')['price'].sum()\n",
    "\n",
    "# Identifying the host with the highest total price\n",
    "host_highest_total_price = total_price_by_host.idxmax()\n",
    "highest_total_price_value = total_price_by_host.max()\n",
    "\n",
    "# Getting the location information for the host with the highest total price\n",
    "location_info = air_bnb.loc[air_bnb['host_id'] == host_highest_total_price, ['host_name', 'neighbourhood_group', 'neighbourhood']]\n",
    "\n",
    "# Displaying results\n",
    "print(f\"The host with the highest total price is host_id {host_highest_total_price} with a total price of ${highest_total_price_value:.2f}\")\n",
    "print(\"Location Information:\")\n",
    "print(location_info)"
   ]
  },
  {
   "cell_type": "code",
   "execution_count": 56,
   "metadata": {},
   "outputs": [
    {
     "name": "stdout",
     "output_type": "stream",
     "text": [
      "Danielle from Queens last received a review on: nan\n"
     ]
    }
   ],
   "source": [
    "# When did Danielle from Queens last receive a review?\n",
    "\n",
    "# Filter the DataFrame for Danielle from Queens\n",
    "danielle_queens_reviews = air_bnb[(air_bnb['host_name'] == 'Danielle') & (air_bnb['neighbourhood_group'] == 'Queens')]\n",
    "\n",
    "# Identify the most recent review date for Danielle from Queens\n",
    "last_review_date = danielle_queens_reviews['last_review'].max()\n",
    "\n",
    "# Display the result\n",
    "print(f\"Danielle from Queens last received a review on: {last_review_date}\")"
   ]
  },
  {
   "cell_type": "markdown",
   "metadata": {},
   "source": [
    "## Further Questions\n",
    "\n",
    "1. Which host has the most listings?"
   ]
  },
  {
   "cell_type": "code",
   "execution_count": 63,
   "metadata": {},
   "outputs": [
    {
     "name": "stdout",
     "output_type": "stream",
     "text": [
      "The host with the most listings is host_id 219517861 with 327 listings.\n"
     ]
    }
   ],
   "source": [
    "# Identifying the host with the most listings\n",
    "host_most_listings = air_bnb.groupby('host_id')['calculated_host_listings_count'].max().idxmax()\n",
    "num_listings = air_bnb.groupby('host_id')['calculated_host_listings_count'].max().max()\n",
    "\n",
    "# Displaying the result\n",
    "print(f\"The host with the most listings is host_id {host_most_listings} with {num_listings} listings.\")"
   ]
  },
  {
   "cell_type": "markdown",
   "metadata": {},
   "source": [
    "2. How many listings have completely open availability?"
   ]
  },
  {
   "cell_type": "code",
   "execution_count": 64,
   "metadata": {},
   "outputs": [
    {
     "name": "stdout",
     "output_type": "stream",
     "text": [
      "The number of listings with completely open availability is: 1295\n"
     ]
    }
   ],
   "source": [
    "# Counting the number of listings with completely open availability\n",
    "open_avail_listings_count = len(air_bnb[air_bnb['availability_365'] == 365])\n",
    "\n",
    "print(f\"The number of listings with completely open availability is: {open_avail_listings_count}\")"
   ]
  },
  {
   "cell_type": "markdown",
   "metadata": {},
   "source": [
    "3. What room_types have the highest review numbers?"
   ]
  },
  {
   "cell_type": "code",
   "execution_count": 66,
   "metadata": {},
   "outputs": [
    {
     "name": "stdout",
     "output_type": "stream",
     "text": [
      "The room type(s) with the highest total number of reviews is/are Entire home/apt with 580403 reviews.\n"
     ]
    }
   ],
   "source": [
    "# Calculating the total number of reviews for each room type\n",
    "reviews_by_room_type = air_bnb.groupby('room_type')['number_of_reviews'].sum()\n",
    "\n",
    "# Identifying the room types with the highest total number of reviews\n",
    "room_types_highest_reviews = reviews_by_room_type.idxmax()\n",
    "highest_reviews_value = reviews_by_room_type.max()\n",
    "\n",
    "print(f\"The room type(s) with the highest total number of reviews is/are {room_types_highest_reviews} with {highest_reviews_value} reviews.\")"
   ]
  },
  {
   "cell_type": "markdown",
   "metadata": {},
   "source": [
    "# Final Conclusion\n",
    "\n",
    "In this cell, write your final conclusion for each of the questions asked.\n",
    "\n",
    "Also, if you uncovered some more details that were not asked above, please discribe them here.\n",
    "\n",
    "-- Add your conclusion --"
   ]
  },
  {
   "cell_type": "code",
   "execution_count": 72,
   "metadata": {},
   "outputs": [
    {
     "data": {
      "image/png": "[encoded data removed]",
      "text/plain": [
       "<Figure size 800x500 with 1 Axes>"
      ]
     },
     "metadata": {},
     "output_type": "display_data"
    }
   ],
   "source": [
    "# Bar Chart of Room Types\n",
    "\n",
    "room_type_counts = air_bnb['room_type'].value_counts()\n",
    "\n",
    "plt.figure(figsize=(8, 5))\n",
    "room_type_counts.plot(kind='bar', color='orange', edgecolor='black')\n",
    "plt.title('Room Type Distribution')\n",
    "plt.xlabel('Room Type')\n",
    "plt.ylabel('Count')\n",
    "plt.xticks(rotation=0)\n",
    "plt.show()"
   ]
  },
  {
   "cell_type": "code",
   "execution_count": 73,
   "metadata": {},
   "outputs": [
    {
     "data": {
      "image/png": "[encoded data removed]",
      "text/plain": [
       "<Figure size 1000x600 with 1 Axes>"
      ]
     },
     "metadata": {},
     "output_type": "display_data"
    }
   ],
   "source": [
    "plt.figure(figsize=(10, 6))\n",
    "plt.scatter(air_bnb['number_of_reviews'], air_bnb['price'], alpha=0.5, color='green')\n",
    "plt.title('Scatter Plot: Reviews vs. Price')\n",
    "plt.xlabel('Number of Reviews')\n",
    "plt.ylabel('Price')\n",
    "plt.show()"
   ]
  }
 ],
 "metadata": {
  "kernelspec": {
   "display_name": "Python 3 (ipykernel)",
   "language": "python",
   "name": "python3"
  },
  "language_info": {
   "codemirror_mode": {
    "name": "ipython",
    "version": 3
   },
   "file_extension": ".py",
   "mimetype": "text/x-python",
   "name": "python",
   "nbconvert_exporter": "python",
   "pygments_lexer": "ipython3",
   "version": "3.11.4"
  }
 },
 "nbformat": 4,
 "nbformat_minor": 2
}
